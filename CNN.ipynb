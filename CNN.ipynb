{
  "cells": [
    {
      "cell_type": "markdown",
      "source": [
        "# Import needed modules"
      ],
      "metadata": {
        "id": "B8wSd874Kj1a"
      }
    },
    {
      "cell_type": "code",
      "execution_count": 1,
      "metadata": {
        "colab": {
          "base_uri": "https://localhost:8080/"
        },
        "id": "osKJFyd835YF",
        "outputId": "a9e18306-0659-48de-ef7f-c4730f2c5a54"
      },
      "outputs": [
        {
          "output_type": "stream",
          "name": "stdout",
          "text": [
            "Looking in indexes: https://pypi.org/simple, https://us-python.pkg.dev/colab-wheels/public/simple/\n",
            "Requirement already satisfied: nilearn in /usr/local/lib/python3.8/dist-packages (0.9.2)\n",
            "Requirement already satisfied: scikit-learn>=0.22 in /usr/local/lib/python3.8/dist-packages (from nilearn) (1.0.2)\n",
            "Requirement already satisfied: requests>=2 in /usr/local/lib/python3.8/dist-packages (from nilearn) (2.23.0)\n",
            "Requirement already satisfied: nibabel>=3.0.0 in /usr/local/lib/python3.8/dist-packages (from nilearn) (3.0.2)\n",
            "Requirement already satisfied: numpy>=1.18 in /usr/local/lib/python3.8/dist-packages (from nilearn) (1.21.6)\n",
            "Requirement already satisfied: lxml in /usr/local/lib/python3.8/dist-packages (from nilearn) (4.9.1)\n",
            "Requirement already satisfied: joblib>=0.15 in /usr/local/lib/python3.8/dist-packages (from nilearn) (1.2.0)\n",
            "Requirement already satisfied: pandas>=1.0 in /usr/local/lib/python3.8/dist-packages (from nilearn) (1.3.5)\n",
            "Requirement already satisfied: scipy>=1.5 in /usr/local/lib/python3.8/dist-packages (from nilearn) (1.7.3)\n",
            "Requirement already satisfied: python-dateutil>=2.7.3 in /usr/local/lib/python3.8/dist-packages (from pandas>=1.0->nilearn) (2.8.2)\n",
            "Requirement already satisfied: pytz>=2017.3 in /usr/local/lib/python3.8/dist-packages (from pandas>=1.0->nilearn) (2022.6)\n",
            "Requirement already satisfied: six>=1.5 in /usr/local/lib/python3.8/dist-packages (from python-dateutil>=2.7.3->pandas>=1.0->nilearn) (1.15.0)\n",
            "Requirement already satisfied: certifi>=2017.4.17 in /usr/local/lib/python3.8/dist-packages (from requests>=2->nilearn) (2022.9.24)\n",
            "Requirement already satisfied: chardet<4,>=3.0.2 in /usr/local/lib/python3.8/dist-packages (from requests>=2->nilearn) (3.0.4)\n",
            "Requirement already satisfied: idna<3,>=2.5 in /usr/local/lib/python3.8/dist-packages (from requests>=2->nilearn) (2.10)\n",
            "Requirement already satisfied: urllib3!=1.25.0,!=1.25.1,<1.26,>=1.21.1 in /usr/local/lib/python3.8/dist-packages (from requests>=2->nilearn) (1.24.3)\n",
            "Requirement already satisfied: threadpoolctl>=2.0.0 in /usr/local/lib/python3.8/dist-packages (from scikit-learn>=0.22->nilearn) (3.1.0)\n"
          ]
        }
      ],
      "source": [
        "pip install nilearn"
      ]
    },
    {
      "cell_type": "code",
      "execution_count": 2,
      "metadata": {
        "id": "laiAw2cM3vqa"
      },
      "outputs": [],
      "source": [
        "import nibabel as nib\n",
        "import os\n",
        "import itertools\n",
        "import numpy as np\n",
        "from nilearn import plotting\n",
        "import tensorflow as tf\n",
        "from tensorflow import keras\n",
        "from tensorflow.keras import layers"
      ]
    },
    {
      "cell_type": "code",
      "execution_count": 3,
      "metadata": {
        "colab": {
          "base_uri": "https://localhost:8080/"
        },
        "id": "Bvpct8CI33EF",
        "outputId": "71b0bdbe-4c29-40ca-f588-05a4807e2e36"
      },
      "outputs": [
        {
          "output_type": "stream",
          "name": "stdout",
          "text": [
            "Drive already mounted at /content/drive; to attempt to forcibly remount, call drive.mount(\"/content/drive\", force_remount=True).\n"
          ]
        }
      ],
      "source": [
        "from google.colab import drive\n",
        "drive.mount('/content/drive')"
      ]
    },
    {
      "cell_type": "markdown",
      "source": [
        "# Read one NIFTI file"
      ],
      "metadata": {
        "id": "plPbPs-9Kwov"
      }
    },
    {
      "cell_type": "code",
      "execution_count": 4,
      "metadata": {
        "colab": {
          "base_uri": "https://localhost:8080/",
          "height": 1000
        },
        "id": "z6LxPhht3vqc",
        "outputId": "61966118-d893-4617-a443-574744fe795f"
      },
      "outputs": [
        {
          "output_type": "execute_result",
          "data": {
            "text/plain": [
              "array([[[0., 0., 0., ..., 0., 0., 0.],\n",
              "        [0., 0., 0., ..., 0., 0., 0.],\n",
              "        [0., 0., 0., ..., 0., 0., 0.],\n",
              "        ...,\n",
              "        [0., 0., 0., ..., 0., 0., 0.],\n",
              "        [0., 0., 0., ..., 0., 0., 0.],\n",
              "        [0., 0., 0., ..., 0., 0., 0.]],\n",
              "\n",
              "       [[0., 0., 0., ..., 0., 0., 0.],\n",
              "        [0., 0., 0., ..., 0., 0., 0.],\n",
              "        [0., 0., 0., ..., 0., 0., 0.],\n",
              "        ...,\n",
              "        [0., 0., 0., ..., 0., 0., 0.],\n",
              "        [0., 0., 0., ..., 0., 0., 0.],\n",
              "        [0., 0., 0., ..., 0., 0., 0.]],\n",
              "\n",
              "       [[0., 0., 0., ..., 0., 0., 0.],\n",
              "        [0., 0., 0., ..., 0., 0., 0.],\n",
              "        [0., 0., 0., ..., 0., 0., 0.],\n",
              "        ...,\n",
              "        [0., 0., 0., ..., 0., 0., 0.],\n",
              "        [0., 0., 0., ..., 0., 0., 0.],\n",
              "        [0., 0., 0., ..., 0., 0., 0.]],\n",
              "\n",
              "       ...,\n",
              "\n",
              "       [[0., 0., 0., ..., 0., 0., 0.],\n",
              "        [0., 0., 0., ..., 0., 0., 0.],\n",
              "        [0., 0., 0., ..., 0., 0., 0.],\n",
              "        ...,\n",
              "        [0., 0., 0., ..., 0., 0., 0.],\n",
              "        [0., 0., 0., ..., 0., 0., 0.],\n",
              "        [0., 0., 0., ..., 0., 0., 0.]],\n",
              "\n",
              "       [[0., 0., 0., ..., 0., 0., 0.],\n",
              "        [0., 0., 0., ..., 0., 0., 0.],\n",
              "        [0., 0., 0., ..., 0., 0., 0.],\n",
              "        ...,\n",
              "        [0., 0., 0., ..., 0., 0., 0.],\n",
              "        [0., 0., 0., ..., 0., 0., 0.],\n",
              "        [0., 0., 0., ..., 0., 0., 0.]],\n",
              "\n",
              "       [[0., 0., 0., ..., 0., 0., 0.],\n",
              "        [0., 0., 0., ..., 0., 0., 0.],\n",
              "        [0., 0., 0., ..., 0., 0., 0.],\n",
              "        ...,\n",
              "        [0., 0., 0., ..., 0., 0., 0.],\n",
              "        [0., 0., 0., ..., 0., 0., 0.],\n",
              "        [0., 0., 0., ..., 0., 0., 0.]]])"
            ]
          },
          "metadata": {},
          "execution_count": 4
        },
        {
          "output_type": "display_data",
          "data": {
            "text/plain": [
              "<Figure size 475.2x187.2 with 4 Axes>"
            ],
            "image/png": "[encoded data removed]"
          },
          "metadata": {}
        }
      ],
      "source": [
        "def read_nifti_file1(nifti_file):\n",
        "    nii_image = nib.load(nifti_file)\n",
        "    nii_data = nii_image.get_fdata()\n",
        "    plotting.plot_anat(nii_image)\n",
        "    return nii_data\n",
        "\n",
        "read_nifti_file1(r\"/content/drive/MyDrive/Data/6389_Data_project1/Training/health/sub6/T1_bet_2_0413.nii.gz\")"
      ]
    },
    {
      "cell_type": "code",
      "execution_count": 5,
      "metadata": {
        "id": "213V-Vq83vqe"
      },
      "outputs": [],
      "source": [
        "def read_nifti_file(nifti_file):\n",
        "    nii_image = nib.load(nifti_file)\n",
        "    nii_data = nii_image.get_fdata()\n",
        "    return nii_data\n",
        "\n",
        "def resize_data(data):\n",
        "    initial_size_x = data.shape[0]\n",
        "    initial_size_y = data.shape[1]\n",
        "    initial_size_z = data.shape[2]\n",
        "\n",
        "    new_size_x = 128\n",
        "    new_size_y = 128\n",
        "    new_size_z = 64\n",
        "    \n",
        "    delta_x = initial_size_x / new_size_x\n",
        "    delta_y = initial_size_y / new_size_y\n",
        "    delta_z = initial_size_z / new_size_z\n",
        "\n",
        "    new_data = np.zeros((new_size_x, new_size_y, new_size_z))\n",
        "\n",
        "    for x, y, z in itertools.product(range(new_size_x),\n",
        "                                     range(new_size_y),\n",
        "                                     range(new_size_z)):\n",
        "        new_data[x][y][z] = data[int(x * delta_x)][int(y * delta_y)][int(z * delta_z)]\n",
        "\n",
        "    return new_data\n",
        "\n",
        "def get_data(dtype = \"Training\" ,resize = True):\n",
        "    \n",
        "    healthy_subjects = []\n",
        "    ad_patients = []\n",
        "    \n",
        "    if dtype == \"Training\":\n",
        "        for i in range(1,11):\n",
        "            healthy = read_nifti_file(\"/content/drive/MyDrive/Data/6389_Data_project1/\"+dtype+\"/health/sub\"+str(i)+\"/T1_bet_2_0413.nii.gz\")\n",
        "            patient = read_nifti_file(\"/content/drive/MyDrive/Data/6389_Data_project1/\"+dtype+\"/patient/sub\"+str(i)+\"/T1_bet_2_0413.nii.gz\")\n",
        "            if resize == True:\n",
        "                healthy = resize_data(healthy)\n",
        "                patient = resize_data(patient)\n",
        "\n",
        "            healthy_subjects.append(healthy)\n",
        "            ad_patients.append(patient)\n",
        "    \n",
        "    elif dtype == \"Testing\":\n",
        "        for i in range(1,6):\n",
        "            healthy = read_nifti_file(\"/content/drive/MyDrive/Data/6389_Data_project1/\"+dtype+\"/health/sub\"+str(i)+\"/T1_bet_2_0413.nii.gz\")\n",
        "            patient = read_nifti_file(\"/content/drive/MyDrive/Data/6389_Data_project1/\"+dtype+\"/patient/sub\"+str(i)+\"/T1_bet_2_0413.nii.gz\")\n",
        "            if resize == True:\n",
        "                healthy = resize_data(healthy)\n",
        "                patient = resize_data(patient)\n",
        "\n",
        "            healthy_subjects.append(healthy)\n",
        "            ad_patients.append(patient)\n",
        "        \n",
        "    return healthy_subjects,ad_patients"
      ]
    },
    {
      "cell_type": "code",
      "execution_count": 6,
      "metadata": {
        "id": "GzTL98rh3vqf"
      },
      "outputs": [],
      "source": [
        "def flip_image(image):\n",
        "    flipped_image = tf.image.flip_left_right(image)\n",
        "    return flipped_image\n",
        "\n",
        "def augmentation(list_of_data, count = 4):\n",
        "    \n",
        "    augmentated_data = list_of_data[:]\n",
        "    indexes = np.arange(len(list_of_data))\n",
        "    select_images = np.random.choice(indexes, count+1, replace = False)\n",
        "    \n",
        "    # Flipping random count number of images and appending it to the dataset  \n",
        "    for i in select_images:\n",
        "        augmentated_data.append(flip_image(list_of_data[i]))\n",
        "    return augmentated_data\n",
        "\n",
        "def data_preprocessing(volume, label):\n",
        "    volume = tf.expand_dims(volume, axis=-1)\n",
        "    return volume, label"
      ]
    },
    {
      "cell_type": "code",
      "execution_count": 7,
      "metadata": {
        "id": "lJ2XZqzY3vqg"
      },
      "outputs": [],
      "source": [
        "def get_model(width=128, height=128, depth=64):\n",
        "    #Building a 3D convolutional neural network model.\n",
        "    inputs = keras.Input((width, height, depth, 1))\n",
        "\n",
        "    x = layers.Conv3D(filters=64, kernel_size=3, activation=\"relu\")(inputs)\n",
        "    x = layers.MaxPool3D(pool_size=2)(x)\n",
        "    x = layers.BatchNormalization()(x)\n",
        "\n",
        "    x = layers.Conv3D(filters=64, kernel_size=3, activation=\"relu\")(x)\n",
        "    x = layers.MaxPool3D(pool_size=2)(x)\n",
        "    x = layers.BatchNormalization()(x)\n",
        "\n",
        "    x = layers.Conv3D(filters=128, kernel_size=3, activation=\"relu\")(x)\n",
        "    x = layers.MaxPool3D(pool_size=2)(x)\n",
        "    x = layers.BatchNormalization()(x)\n",
        "\n",
        "    x = layers.Conv3D(filters=256, kernel_size=3, activation=\"relu\")(x)\n",
        "    x = layers.MaxPool3D(pool_size=2)(x)\n",
        "    x = layers.BatchNormalization()(x)\n",
        "\n",
        "    x = layers.GlobalAveragePooling3D()(x)\n",
        "    x = layers.Dense(units=512, activation=\"relu\")(x)\n",
        "    x = layers.Dropout(0.3)(x)\n",
        "\n",
        "    outputs = layers.Dense(units=1, activation=\"sigmoid\")(x)\n",
        "\n",
        "    # Defining the model.\n",
        "    model = keras.Model(inputs, outputs, name=\"3dcnn\")\n",
        "    return model"
      ]
    },
    {
      "cell_type": "code",
      "execution_count": 8,
      "metadata": {
        "id": "yR6qhBad3vqh"
      },
      "outputs": [],
      "source": [
        "# Get data and apply augmentation\n",
        "healthy_subjects, patients = get_data(resize = True)"
      ]
    },
    {
      "cell_type": "markdown",
      "metadata": {
        "id": "u4p48vfS3vqi"
      },
      "source": [
        "### Method 1: Using the resized images on model "
      ]
    },
    {
      "cell_type": "code",
      "execution_count": 9,
      "metadata": {
        "colab": {
          "base_uri": "https://localhost:8080/"
        },
        "id": "veVoQCfk3vqj",
        "outputId": "f30a935d-2a14-4c94-c7f1-527a2a49b6c4"
      },
      "outputs": [
        {
          "output_type": "stream",
          "name": "stdout",
          "text": [
            "Number of MRI healthy subjects: 10\n",
            "Number of MRI un-healthy subjects: 10\n"
          ]
        }
      ],
      "source": [
        "print(\"Number of MRI healthy subjects: \" + str(len(healthy_subjects)))\n",
        "print(\"Number of MRI un-healthy subjects: \" + str(len(patients)))"
      ]
    },
    {
      "cell_type": "code",
      "execution_count": 10,
      "metadata": {
        "colab": {
          "base_uri": "https://localhost:8080/"
        },
        "id": "x4oQNwgZ3vqk",
        "outputId": "cbe69742-c1ed-4425-a41c-cdaf5e040488"
      },
      "outputs": [
        {
          "output_type": "stream",
          "name": "stdout",
          "text": [
            "Number of samples in train are 20.\n"
          ]
        }
      ],
      "source": [
        "# Assigning class labels\n",
        "abnormal_labels = np.array([1 for _ in range(len(patients))])\n",
        "normal_labels = np.array([0 for _ in range(len(healthy_subjects))])\n",
        "\n",
        "x_train = []\n",
        "y_train = []\n",
        "\n",
        "x_train.extend(healthy_subjects)\n",
        "x_train.extend(patients)\n",
        "y_train.extend(normal_labels)\n",
        "y_train.extend(abnormal_labels)\n",
        "\n",
        "print(\"Number of samples in train are %d.\"% (len(x_train)))"
      ]
    },
    {
      "cell_type": "code",
      "execution_count": 11,
      "metadata": {
        "id": "IA6JBirS3vql"
      },
      "outputs": [],
      "source": [
        "train_loader = tf.data.Dataset.from_tensor_slices((x_train, y_train))\n",
        "batch_size = 2\n",
        "train_dataset = (\n",
        "    train_loader.shuffle(len(x_train))\n",
        "    .map(data_preprocessing)\n",
        "    .batch(batch_size)\n",
        "    .prefetch(2)\n",
        ")"
      ]
    },
    {
      "cell_type": "code",
      "execution_count": 12,
      "metadata": {
        "colab": {
          "base_uri": "https://localhost:8080/"
        },
        "id": "2xRBERo43vql",
        "outputId": "c924e944-75f2-4b2b-c60e-b37072f18fa7"
      },
      "outputs": [
        {
          "output_type": "stream",
          "name": "stdout",
          "text": [
            "Model: \"3dcnn\"\n",
            "_________________________________________________________________\n",
            " Layer (type)                Output Shape              Param #   \n",
            "=================================================================\n",
            " input_1 (InputLayer)        [(None, 128, 128, 64, 1)  0         \n",
            "                             ]                                   \n",
            "                                                                 \n",
            " conv3d (Conv3D)             (None, 126, 126, 62, 64)  1792      \n",
            "                                                                 \n",
            " max_pooling3d (MaxPooling3D  (None, 63, 63, 31, 64)   0         \n",
            " )                                                               \n",
            "                                                                 \n",
            " batch_normalization (BatchN  (None, 63, 63, 31, 64)   256       \n",
            " ormalization)                                                   \n",
            "                                                                 \n",
            " conv3d_1 (Conv3D)           (None, 61, 61, 29, 64)    110656    \n",
            "                                                                 \n",
            " max_pooling3d_1 (MaxPooling  (None, 30, 30, 14, 64)   0         \n",
            " 3D)                                                             \n",
            "                                                                 \n",
            " batch_normalization_1 (Batc  (None, 30, 30, 14, 64)   256       \n",
            " hNormalization)                                                 \n",
            "                                                                 \n",
            " conv3d_2 (Conv3D)           (None, 28, 28, 12, 128)   221312    \n",
            "                                                                 \n",
            " max_pooling3d_2 (MaxPooling  (None, 14, 14, 6, 128)   0         \n",
            " 3D)                                                             \n",
            "                                                                 \n",
            " batch_normalization_2 (Batc  (None, 14, 14, 6, 128)   512       \n",
            " hNormalization)                                                 \n",
            "                                                                 \n",
            " conv3d_3 (Conv3D)           (None, 12, 12, 4, 256)    884992    \n",
            "                                                                 \n",
            " max_pooling3d_3 (MaxPooling  (None, 6, 6, 2, 256)     0         \n",
            " 3D)                                                             \n",
            "                                                                 \n",
            " batch_normalization_3 (Batc  (None, 6, 6, 2, 256)     1024      \n",
            " hNormalization)                                                 \n",
            "                                                                 \n",
            " global_average_pooling3d (G  (None, 256)              0         \n",
            " lobalAveragePooling3D)                                          \n",
            "                                                                 \n",
            " dense (Dense)               (None, 512)               131584    \n",
            "                                                                 \n",
            " dropout (Dropout)           (None, 512)               0         \n",
            "                                                                 \n",
            " dense_1 (Dense)             (None, 1)                 513       \n",
            "                                                                 \n",
            "=================================================================\n",
            "Total params: 1,352,897\n",
            "Trainable params: 1,351,873\n",
            "Non-trainable params: 1,024\n",
            "_________________________________________________________________\n"
          ]
        }
      ],
      "source": [
        "model = get_model()\n",
        "model.summary()"
      ]
    },
    {
      "cell_type": "code",
      "execution_count": 13,
      "metadata": {
        "id": "P_qaff0-3vqm"
      },
      "outputs": [],
      "source": [
        "initial_learning_rate = 0.001\n",
        "lr_schedule = keras.optimizers.schedules.ExponentialDecay(\n",
        "    initial_learning_rate, decay_steps=100000, decay_rate=0.96, staircase=True\n",
        ")\n",
        "model.compile(\n",
        "    loss=\"binary_crossentropy\",\n",
        "    optimizer=keras.optimizers.Adam(learning_rate=lr_schedule),\n",
        "    metrics=[\"acc\"],\n",
        ")\n"
      ]
    },
    {
      "cell_type": "code",
      "execution_count": 14,
      "metadata": {
        "colab": {
          "base_uri": "https://localhost:8080/"
        },
        "id": "Fs3_2-723vqm",
        "scrolled": true,
        "outputId": "873bbbc7-2dd1-4c7e-b024-aa399524fa1c"
      },
      "outputs": [
        {
          "output_type": "stream",
          "name": "stdout",
          "text": [
            "Epoch 1/10\n",
            "10/10 [==============================] - 230s 23s/step - loss: 0.8941 - acc: 0.7500\n",
            "Epoch 2/10\n",
            "10/10 [==============================] - 227s 23s/step - loss: 0.6697 - acc: 0.7000\n",
            "Epoch 3/10\n",
            "10/10 [==============================] - 232s 23s/step - loss: 0.7513 - acc: 0.5500\n",
            "Epoch 4/10\n",
            "10/10 [==============================] - 229s 23s/step - loss: 0.6224 - acc: 0.7000\n",
            "Epoch 5/10\n",
            "10/10 [==============================] - 227s 23s/step - loss: 0.5173 - acc: 0.7000\n",
            "Epoch 6/10\n",
            "10/10 [==============================] - 230s 23s/step - loss: 0.6200 - acc: 0.7000\n",
            "Epoch 7/10\n",
            "10/10 [==============================] - 227s 23s/step - loss: 0.6145 - acc: 0.7000\n",
            "Epoch 8/10\n",
            "10/10 [==============================] - 228s 23s/step - loss: 0.5081 - acc: 0.7000\n",
            "Epoch 9/10\n",
            "10/10 [==============================] - 227s 23s/step - loss: 0.5885 - acc: 0.6000\n",
            "Epoch 10/10\n",
            "10/10 [==============================] - 230s 23s/step - loss: 0.6967 - acc: 0.5500\n"
          ]
        }
      ],
      "source": [
        "epochs = 10\n",
        "\n",
        "checkpoint_cb = keras.callbacks.ModelCheckpoint(\n",
        "    \"3d_image_classification.h5\", save_best_only=True\n",
        ")\n",
        "early_stopping_cb = keras.callbacks.EarlyStopping(monitor=\"val_acc\", patience=15)\n",
        "\n",
        "history = model.fit(\n",
        "    train_dataset,\n",
        "    epochs=epochs,\n",
        "    shuffle=True,\n",
        ")"
      ]
    },
    {
      "cell_type": "code",
      "execution_count": 15,
      "metadata": {
        "colab": {
          "base_uri": "https://localhost:8080/"
        },
        "id": "DvK8yTk93vqn",
        "outputId": "d8d3c3c7-cff4-4948-c393-17fc7f2c525d"
      },
      "outputs": [
        {
          "output_type": "stream",
          "name": "stdout",
          "text": [
            "Device mapping: no known devices.\n"
          ]
        }
      ],
      "source": [
        "sess = tf.compat.v1.Session(config=tf.compat.v1.ConfigProto(log_device_placement=True))"
      ]
    },
    {
      "cell_type": "code",
      "execution_count": 16,
      "metadata": {
        "colab": {
          "base_uri": "https://localhost:8080/"
        },
        "id": "_U_1MklO3vqn",
        "outputId": "3031f4e9-a548-4a13-fabb-9779cfa48775"
      },
      "outputs": [
        {
          "output_type": "execute_result",
          "data": {
            "text/plain": [
              "0.6649999976158142"
            ]
          },
          "metadata": {},
          "execution_count": 16
        }
      ],
      "source": [
        "sum(history.history['acc'])/len(history.history['acc']) # Avergae accuracy"
      ]
    },
    {
      "cell_type": "code",
      "execution_count": 17,
      "metadata": {
        "id": "sisAs-xP3vqo"
      },
      "outputs": [],
      "source": [
        "# Creating Validation Data set\n",
        "test_h, test_p = get_data(\"Testing\", resize = True)\n",
        "test_abnormal_labels = np.array([1 for _ in range(len(test_p))])\n",
        "test_normal_labels = np.array([1 for _ in range(len(test_h))])"
      ]
    },
    {
      "cell_type": "code",
      "execution_count": 18,
      "metadata": {
        "id": "EuE8q1qS3vqo"
      },
      "outputs": [],
      "source": [
        "x_test = []\n",
        "y_test = []\n",
        "\n",
        "x_test.extend(test_h)\n",
        "x_test.extend(test_p)\n",
        "y_test.extend(test_normal_labels)\n",
        "y_test.extend(test_abnormal_labels)"
      ]
    },
    {
      "cell_type": "code",
      "execution_count": 19,
      "metadata": {
        "id": "SHz-3nDB3vqo"
      },
      "outputs": [],
      "source": [
        "test_loader = tf.data.Dataset.from_tensor_slices((x_test, y_test))\n",
        "\n",
        "test_dataset = (\n",
        "    test_loader.shuffle(len(x_test))\n",
        "    .map(data_preprocessing)\n",
        "    .batch(batch_size)\n",
        "    .prefetch(2)\n",
        ")"
      ]
    },
    {
      "cell_type": "code",
      "execution_count": 20,
      "metadata": {
        "colab": {
          "base_uri": "https://localhost:8080/"
        },
        "id": "BaZsQls53vqp",
        "outputId": "ec7298f6-3c91-43f6-e5db-7f093f50192d"
      },
      "outputs": [
        {
          "output_type": "stream",
          "name": "stdout",
          "text": [
            "5/5 - 15s - loss: 0.2357 - acc: 1.0000 - 15s/epoch - 3s/step\n"
          ]
        }
      ],
      "source": [
        "test_loss, test_acc = model.evaluate(test_dataset, verbose=2)"
      ]
    },
    {
      "cell_type": "code",
      "execution_count": 21,
      "metadata": {
        "colab": {
          "base_uri": "https://localhost:8080/"
        },
        "id": "Q0bVX2rv3vqp",
        "outputId": "08acd6ba-63c0-4c8d-f219-605ac6772bb6"
      },
      "outputs": [
        {
          "output_type": "execute_result",
          "data": {
            "text/plain": [
              "1.0"
            ]
          },
          "metadata": {},
          "execution_count": 21
        }
      ],
      "source": [
        "test_acc"
      ]
    },
    {
      "cell_type": "markdown",
      "metadata": {
        "id": "vDLp9_Z43vqq"
      },
      "source": [
        "### Method 2: Data Augmentation & Resizing"
      ]
    },
    {
      "cell_type": "code",
      "execution_count": 22,
      "metadata": {
        "colab": {
          "base_uri": "https://localhost:8080/"
        },
        "id": "_SYMmseD3vqq",
        "outputId": "8fef460e-aecd-451c-8288-e19aa17bc89c"
      },
      "outputs": [
        {
          "output_type": "stream",
          "name": "stdout",
          "text": [
            "Number of MRI healthy subjects: 17\n",
            "Number of MRI un-healthy subjects: 17\n"
          ]
        }
      ],
      "source": [
        "# call the augmentation function\n",
        "\n",
        "# Adding 6 images from healthy as well as patient dataset\n",
        "augemented_healthy_subjects = augmentation(healthy_subjects, count = 6)\n",
        "augemented_patients = augmentation(patients, count = 6)\n",
        "\n",
        "print(\"Number of MRI healthy subjects: \" + str(len(augemented_healthy_subjects)))\n",
        "print(\"Number of MRI un-healthy subjects: \" + str(len(augemented_patients)))"
      ]
    },
    {
      "cell_type": "code",
      "execution_count": 23,
      "metadata": {
        "colab": {
          "base_uri": "https://localhost:8080/"
        },
        "id": "zp__kLVu3vqr",
        "outputId": "458c5526-61d4-4551-afee-118547ab5b51"
      },
      "outputs": [
        {
          "output_type": "stream",
          "name": "stdout",
          "text": [
            "Number of samples in train are 34.\n"
          ]
        }
      ],
      "source": [
        "abnormal_labels2 = np.array([1 for _ in range(len(augemented_patients))])\n",
        "normal_labels2 = np.array([0 for _ in range(len(augemented_healthy_subjects))])\n",
        "\n",
        "x_train2 = []\n",
        "y_train2 = []\n",
        "\n",
        "x_train2.extend(augemented_healthy_subjects)\n",
        "x_train2.extend(augemented_patients)\n",
        "y_train2.extend(normal_labels2)\n",
        "y_train2.extend(abnormal_labels2)\n",
        "\n",
        "print(\"Number of samples in train are %d.\"% (len(x_train2)))"
      ]
    },
    {
      "cell_type": "code",
      "execution_count": 24,
      "metadata": {
        "id": "6xiJVgmR3vqs"
      },
      "outputs": [],
      "source": [
        "train_loader2 = tf.data.Dataset.from_tensor_slices((x_train2, y_train2))\n",
        "batch_size = 2\n",
        "train_dataset2 = (\n",
        "    train_loader.shuffle(len(x_train))\n",
        "    .map(data_preprocessing)\n",
        "    .batch(batch_size)\n",
        "    .prefetch(2)\n",
        ")"
      ]
    },
    {
      "cell_type": "code",
      "execution_count": 25,
      "metadata": {
        "colab": {
          "base_uri": "https://localhost:8080/"
        },
        "id": "mUnUPczN3vqs",
        "outputId": "167d6fd7-79b5-4443-f0a3-69f2c41b29a3"
      },
      "outputs": [
        {
          "output_type": "stream",
          "name": "stdout",
          "text": [
            "Model: \"3dcnn\"\n",
            "_________________________________________________________________\n",
            " Layer (type)                Output Shape              Param #   \n",
            "=================================================================\n",
            " input_2 (InputLayer)        [(None, 128, 128, 64, 1)  0         \n",
            "                             ]                                   \n",
            "                                                                 \n",
            " conv3d_4 (Conv3D)           (None, 126, 126, 62, 64)  1792      \n",
            "                                                                 \n",
            " max_pooling3d_4 (MaxPooling  (None, 63, 63, 31, 64)   0         \n",
            " 3D)                                                             \n",
            "                                                                 \n",
            " batch_normalization_4 (Batc  (None, 63, 63, 31, 64)   256       \n",
            " hNormalization)                                                 \n",
            "                                                                 \n",
            " conv3d_5 (Conv3D)           (None, 61, 61, 29, 64)    110656    \n",
            "                                                                 \n",
            " max_pooling3d_5 (MaxPooling  (None, 30, 30, 14, 64)   0         \n",
            " 3D)                                                             \n",
            "                                                                 \n",
            " batch_normalization_5 (Batc  (None, 30, 30, 14, 64)   256       \n",
            " hNormalization)                                                 \n",
            "                                                                 \n",
            " conv3d_6 (Conv3D)           (None, 28, 28, 12, 128)   221312    \n",
            "                                                                 \n",
            " max_pooling3d_6 (MaxPooling  (None, 14, 14, 6, 128)   0         \n",
            " 3D)                                                             \n",
            "                                                                 \n",
            " batch_normalization_6 (Batc  (None, 14, 14, 6, 128)   512       \n",
            " hNormalization)                                                 \n",
            "                                                                 \n",
            " conv3d_7 (Conv3D)           (None, 12, 12, 4, 256)    884992    \n",
            "                                                                 \n",
            " max_pooling3d_7 (MaxPooling  (None, 6, 6, 2, 256)     0         \n",
            " 3D)                                                             \n",
            "                                                                 \n",
            " batch_normalization_7 (Batc  (None, 6, 6, 2, 256)     1024      \n",
            " hNormalization)                                                 \n",
            "                                                                 \n",
            " global_average_pooling3d_1   (None, 256)              0         \n",
            " (GlobalAveragePooling3D)                                        \n",
            "                                                                 \n",
            " dense_2 (Dense)             (None, 512)               131584    \n",
            "                                                                 \n",
            " dropout_1 (Dropout)         (None, 512)               0         \n",
            "                                                                 \n",
            " dense_3 (Dense)             (None, 1)                 513       \n",
            "                                                                 \n",
            "=================================================================\n",
            "Total params: 1,352,897\n",
            "Trainable params: 1,351,873\n",
            "Non-trainable params: 1,024\n",
            "_________________________________________________________________\n"
          ]
        }
      ],
      "source": [
        "model2 = get_model()\n",
        "model2.summary()"
      ]
    },
    {
      "cell_type": "code",
      "execution_count": 26,
      "metadata": {
        "id": "godgY2QL3vqs"
      },
      "outputs": [],
      "source": [
        "initial_learning_rate = 0.001\n",
        "lr_schedule = keras.optimizers.schedules.ExponentialDecay(\n",
        "    initial_learning_rate, decay_steps=100000, decay_rate=0.96, staircase=True\n",
        ")\n",
        "model2.compile(\n",
        "    loss=\"binary_crossentropy\",\n",
        "    optimizer=keras.optimizers.Adam(learning_rate=lr_schedule),\n",
        "    metrics=[\"acc\"],\n",
        ")\n"
      ]
    },
    {
      "cell_type": "code",
      "execution_count": 27,
      "metadata": {
        "colab": {
          "base_uri": "https://localhost:8080/"
        },
        "id": "b4b8O1y63vqt",
        "outputId": "72648f6c-041b-4173-8332-a0ab15c9f54a",
        "scrolled": true
      },
      "outputs": [
        {
          "output_type": "stream",
          "name": "stdout",
          "text": [
            "Epoch 1/5\n",
            "10/10 [==============================] - 237s 23s/step - loss: 1.2583 - acc: 0.5500\n",
            "Epoch 2/5\n",
            "10/10 [==============================] - 232s 23s/step - loss: 0.6525 - acc: 0.6000\n",
            "Epoch 3/5\n",
            "10/10 [==============================] - 230s 23s/step - loss: 0.6370 - acc: 0.6500\n",
            "Epoch 4/5\n",
            "10/10 [==============================] - 229s 23s/step - loss: 0.7625 - acc: 0.7000\n",
            "Epoch 5/5\n",
            "10/10 [==============================] - 227s 23s/step - loss: 0.7230 - acc: 0.6000\n"
          ]
        }
      ],
      "source": [
        "epochs = 5\n",
        "\n",
        "checkpoint_cb = keras.callbacks.ModelCheckpoint(\n",
        "    \"3d_image_classification.h5\", save_best_only=True\n",
        ")\n",
        "early_stopping_cb = keras.callbacks.EarlyStopping(monitor=\"val_acc\", patience=15)\n",
        "\n",
        "history2 = model2.fit(\n",
        "    train_dataset2,\n",
        "#     validation_data=test_dataset,\n",
        "    epochs=epochs,\n",
        "    shuffle=True,\n",
        ")"
      ]
    },
    {
      "cell_type": "code",
      "execution_count": 28,
      "metadata": {
        "colab": {
          "base_uri": "https://localhost:8080/"
        },
        "id": "r-vgtQzh3vqt",
        "outputId": "083f1b45-6390-46a9-c5e6-5d8d0c16d07b"
      },
      "outputs": [
        {
          "output_type": "stream",
          "name": "stdout",
          "text": [
            "5/5 - 14s - loss: 0.0309 - acc: 1.0000 - 14s/epoch - 3s/step\n"
          ]
        }
      ],
      "source": [
        "test_loss2, test_acc2 = model2.evaluate(test_dataset, verbose=2) # Testing against Validation"
      ]
    },
    {
      "cell_type": "code",
      "execution_count": 29,
      "metadata": {
        "colab": {
          "base_uri": "https://localhost:8080/"
        },
        "id": "vkGBkkeh3vqt",
        "outputId": "b5f88492-694c-45c2-e761-9ab9cfc8caee"
      },
      "outputs": [
        {
          "output_type": "execute_result",
          "data": {
            "text/plain": [
              "0.6649999976158142"
            ]
          },
          "metadata": {},
          "execution_count": 29
        }
      ],
      "source": [
        "sum(history.history['acc'])/len(history.history['acc']) # Average Accuracy"
      ]
    }
  ],
  "metadata": {
    "colab": {
      "provenance": []
    },
    "kernelspec": {
      "display_name": "Python 3",
      "language": "python",
      "name": "python3"
    },
    "language_info": {
      "codemirror_mode": {
        "name": "ipython",
        "version": 3
      },
      "file_extension": ".py",
      "mimetype": "text/x-python",
      "name": "python",
      "nbconvert_exporter": "python",
      "pygments_lexer": "ipython3",
      "version": "3.7.6"
    }
  },
  "nbformat": 4,
  "nbformat_minor": 0
}